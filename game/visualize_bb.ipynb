{
 "cells": [
  {
   "cell_type": "code",
   "execution_count": null,
   "metadata": {},
   "outputs": [
    {
     "ename": "",
     "evalue": "",
     "output_type": "error",
     "traceback": [
      "\u001b[1;31mRunning cells with 'Python 3.11.7' requires the ipykernel package.\n",
      "\u001b[1;31mRun the following command to install 'ipykernel' into the Python environment. \n",
      "\u001b[1;31mCommand: 'c:/msys64/ucrt64/bin/python.exe -m pip install ipykernel -U --user --force-reinstall'"
     ]
    }
   ],
   "source": [
    "import matplotlib.pyplot as plt"
   ]
  },
  {
   "cell_type": "code",
   "execution_count": null,
   "metadata": {},
   "outputs": [],
   "source": [
    "# Open the file containing the vectors\n",
    "with open('bbdata.txt', 'r') as file:\n",
    "    lines = file.readlines()\n",
    "\n",
    "# Ensure we have an even number of lines for pairs\n",
    "if len(lines) % 2 != 0:\n",
    "    print(\"Data appears to be incomplete or incorrectly formatted.\")\n",
    "    exit(1)\n",
    "\n",
    "# Process each pair of lines as one bounding box\n",
    "bounding_boxes = []\n",
    "for i in range(0, len(lines), 2):\n",
    "    # Clean and split each line, then convert to float\n",
    "    min_vec = tuple(float(x.strip().rstrip('.')) for x in lines[i].strip().split(','))\n",
    "    max_vec = tuple(float(x.strip().rstrip('.')) for x in lines[i+1].strip().split(','))\n",
    "    bounding_boxes.append((min_vec, max_vec))"
   ]
  },
  {
   "cell_type": "code",
   "execution_count": null,
   "metadata": {},
   "outputs": [],
   "source": [
    "# Now bounding_boxes contains all the parsed bounding box vectors\n",
    "print(len(bounding_boxes))\n",
    "def generate_vertices(min_vec, max_vec):\n",
    "    \"\"\"Generate vertices for a bounding box defined by min and max vectors.\"\"\"\n",
    "    return [\n",
    "        (min_vec[0], min_vec[1], min_vec[2]), (min_vec[0], min_vec[1], max_vec[2]),\n",
    "        (min_vec[0], max_vec[1], min_vec[2]), (min_vec[0], max_vec[1], max_vec[2]),\n",
    "        (max_vec[0], min_vec[1], min_vec[2]), (max_vec[0], min_vec[1], max_vec[2]),\n",
    "        (max_vec[0], max_vec[1], min_vec[2]), (max_vec[0], max_vec[1], max_vec[2])\n",
    "    ]\n",
    "\n",
    "def plot_boxes(bounding_boxes):\n",
    "    fig = plt.figure()\n",
    "    ax = fig.add_subplot(111, projection='3d')\n",
    "\n",
    "    # Edges connect these vertex indices:\n",
    "    edges = [(0, 1), (1, 3), (3, 2), (2, 0),  # Front face\n",
    "             (4, 5), (5, 7), (7, 6), (6, 4),  # Back face\n",
    "             (0, 4), (1, 5), (3, 7), (2, 6)]  # Connecting lines between faces\n",
    "\n",
    "    for min_vec, max_vec in bounding_boxes:\n",
    "        vertices = generate_vertices(min_vec, max_vec)\n",
    "        for edge in edges:\n",
    "            # Extract coordinates for the start and end points of each edge\n",
    "            xs, ys, zs = zip(*[vertices[index] for index in edge])\n",
    "            ax.plot(xs, ys, zs, color='b')\n",
    "\n",
    "    ax.set_xlabel('X Coordinate')\n",
    "    ax.set_ylabel('Y Coordinate')\n",
    "    ax.set_zlabel('Z Coordinate')\n",
    "    plt.title('3D Visualization of Bounding Boxes')\n",
    "    plt.show()"
   ]
  }
 ],
 "metadata": {
  "kernelspec": {
   "display_name": "Python 3",
   "language": "python",
   "name": "python3"
  },
  "language_info": {
   "name": "python",
   "version": "3.11.7"
  }
 },
 "nbformat": 4,
 "nbformat_minor": 2
}
